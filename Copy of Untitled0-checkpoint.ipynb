{
 "cells": [
  {
   "cell_type": "code",
   "execution_count": 1,
   "metadata": {
    "executionInfo": {
     "elapsed": 4,
     "status": "ok",
     "timestamp": 1709453699293,
     "user": {
      "displayName": "Yatharth Sant",
      "userId": "00139041176629178899"
     },
     "user_tz": -480
    },
    "id": "7DOii9_u-DG7"
   },
   "outputs": [],
   "source": [
    "data_dir_path = '/content/drive/MyDrive/Lung_cancer'"
   ]
  },
  {
   "cell_type": "code",
   "execution_count": null,
   "metadata": {
    "id": "gEDUhovnWckr"
   },
   "outputs": [],
   "source": []
  },
  {
   "cell_type": "code",
   "execution_count": 3,
   "metadata": {
    "executionInfo": {
     "elapsed": 585,
     "status": "ok",
     "timestamp": 1709453760230,
     "user": {
      "displayName": "Yatharth Sant",
      "userId": "00139041176629178899"
     },
     "user_tz": -480
    },
    "id": "jg6Tp7fe-ubt"
   },
   "outputs": [],
   "source": [
    "import os\n",
    "from sklearn.tree import DecisionTreeClassifier\n",
    "from sklearn.naive_bayes import GaussianNB\n",
    "import numpy as np\n",
    "import pandas as pd\n",
    "from sklearn.model_selection import train_test_split, GridSearchCV\n",
    "from sklearn.ensemble import RandomForestClassifier\n",
    "from sklearn.svm import SVC\n",
    "from sklearn.neighbors import KNeighborsClassifier\n",
    "from sklearn.linear_model import LogisticRegression\n",
    "from sklearn.metrics import classification_report, confusion_matrix, accuracy_score, roc_auc_score, roc_curve, auc\n",
    "from sklearn.preprocessing import OneHotEncoder, label_binarize, StandardScaler\n",
    "import matplotlib.pyplot as plt\n",
    "import json\n",
    "import joblib\n",
    "import seaborn as sns\n",
    "\n",
    "target_column = 'Lung Cancer Occurrence'\n",
    "merged_df = pd.read_csv(f'{data_dir_path}/dataset.csv')"
   ]
  },
  {
   "cell_type": "code",
   "execution_count": null,
   "metadata": {
    "colab": {
     "base_uri": "https://localhost:8080/",
     "height": 35
    },
    "executionInfo": {
     "elapsed": 326,
     "status": "ok",
     "timestamp": 1709453293281,
     "user": {
      "displayName": "Yatharth Sant",
      "userId": "00139041176629178899"
     },
     "user_tz": -480
    },
    "id": "Z55qKCqRWvvB",
    "outputId": "61925d76-0ec7-4b8a-a443-eaddb946b0b4"
   },
   "outputs": [
    {
     "data": {
      "application/vnd.google.colaboratory.intrinsic+json": {
       "type": "string"
      },
      "text/plain": [
       "'1.2.2'"
      ]
     },
     "execution_count": 5,
     "metadata": {},
     "output_type": "execute_result"
    }
   ],
   "source": [
    "import sklearn\n",
    "sklearn.__version__"
   ]
  },
  {
   "cell_type": "code",
   "execution_count": null,
   "metadata": {
    "colab": {
     "base_uri": "https://localhost:8080/",
     "height": 35
    },
    "executionInfo": {
     "elapsed": 5,
     "status": "ok",
     "timestamp": 1709453224025,
     "user": {
      "displayName": "Yatharth Sant",
      "userId": "00139041176629178899"
     },
     "user_tz": -480
    },
    "id": "xIBzLQxEWdg9",
    "outputId": "40ecc942-90ec-44a6-b89a-ad9339ddb73a"
   },
   "outputs": [
    {
     "data": {
      "application/vnd.google.colaboratory.intrinsic+json": {
       "type": "string"
      },
      "text/plain": [
       "'1.3.2'"
      ]
     },
     "execution_count": 4,
     "metadata": {},
     "output_type": "execute_result"
    }
   ],
   "source": [
    "joblib.__version__"
   ]
  },
  {
   "cell_type": "code",
   "execution_count": null,
   "metadata": {
    "colab": {
     "base_uri": "https://localhost:8080/"
    },
    "executionInfo": {
     "elapsed": 332,
     "status": "ok",
     "timestamp": 1709358934293,
     "user": {
      "displayName": "Yatharth Sant",
      "userId": "00139041176629178899"
     },
     "user_tz": -480
    },
    "id": "FxU359A82UBn",
    "outputId": "879502dd-d94b-418f-f9d3-589472ea9391"
   },
   "outputs": [
    {
     "data": {
      "text/plain": [
       "Index(['Age', 'Gender', 'COPD History', 'Genetic Markers',\n",
       "       'Air Pollution Exposure', 'Last Weight', 'Current Weight',\n",
       "       'Start Smoking', 'Taken Bronchodilators', 'Frequency of Tiredness',\n",
       "       'Dominant Hand', 'Lung Cancer Occurrence'],\n",
       "      dtype='object')"
      ]
     },
     "execution_count": 3,
     "metadata": {},
     "output_type": "execute_result"
    }
   ],
   "source": [
    "merged_df.columns"
   ]
  },
  {
   "cell_type": "code",
   "execution_count": 4,
   "metadata": {
    "colab": {
     "base_uri": "https://localhost:8080/"
    },
    "executionInfo": {
     "elapsed": 293,
     "status": "ok",
     "timestamp": 1709453770782,
     "user": {
      "displayName": "Yatharth Sant",
      "userId": "00139041176629178899"
     },
     "user_tz": -480
    },
    "id": "eDZk9BX0-eN5",
    "outputId": "94cee979-65d8-49eb-ef96-a07b4aa990a1"
   },
   "outputs": [
    {
     "name": "stdout",
     "output_type": "stream",
     "text": [
      "12\n",
      "['Age', 'Gender', 'COPD History', 'Genetic Markers', 'Air Pollution Exposure', 'Last Weight', 'Current Weight', 'Start Smoking', 'Taken Bronchodilators', 'Frequency of Tiredness', 'Dominant Hand', 'Lung Cancer Occurrence']\n"
     ]
    }
   ],
   "source": [
    "\n",
    "\n",
    "#merged_df.drop('Unnamed: 0', axis=1, inplace=True)\n",
    "\n",
    "print(len(merged_df.columns.tolist()))\n",
    "print(list(merged_df.columns))\n",
    "X = merged_df.drop(target_column, axis=1)\n",
    "y = merged_df[target_column]\n",
    "\n",
    "y_binarized = label_binarize(y, classes=np.unique(y))\n",
    "\n",
    "categorical_cols = X.select_dtypes(include=['object', 'category']).columns\n",
    "numerical_cols = X.select_dtypes(include=['float64', 'int64']).columns\n",
    "\n",
    "with open('/content/drive/MyDrive/Lung_cancer/config.json', 'r') as file:\n",
    "    param_grid = json.load(file)\n",
    "def apply_ohe(X):\n",
    "    ohe = OneHotEncoder(handle_unknown='ignore')\n",
    "    X_encoded = ohe.fit_transform(X[categorical_cols]).toarray()\n",
    "    joblib.dump(ohe, f'{data_dir_path}/ohe.pkl')\n",
    "    return pd.DataFrame(X_encoded, columns=ohe.get_feature_names_out(categorical_cols))\n",
    "\n",
    "def apply_standardization(X, X_encoded=None):\n",
    "    if X_encoded is not None:\n",
    "        X_numerical = X[numerical_cols].reset_index(drop=True)\n",
    "        X_combined = pd.concat([X_numerical, X_encoded], axis=1)\n",
    "    else:\n",
    "        X_combined = X[numerical_cols]\n",
    "    scaler = StandardScaler()\n",
    "    X_scaled = scaler.fit_transform(X_combined)\n",
    "    joblib.dump(scaler, f'{data_dir_path}/scaler.pkl')\n",
    "    return pd.DataFrame(X_scaled, columns=X_combined.columns)\n",
    "\n",
    "def get_train_test_data(ohe_required, normalization_required):\n",
    "    X_processed = X.copy()\n",
    "    X_encoded = None\n",
    "    if ohe_required:\n",
    "        X_encoded = apply_ohe(X)\n",
    "        X_processed = pd.concat([X[numerical_cols], X_encoded], axis=1)\n",
    "    if normalization_required:\n",
    "        X_processed = apply_standardization(X, X_encoded)\n",
    "    cols = list(X_processed.columns)\n",
    "    train_cols = []\n",
    "    with open(f'{data_dir_path}/features.txt', 'r') as fp:\n",
    "      train_cols = fp.readlines()\n",
    "      train_cols = [col.strip() for col in train_cols]\n",
    "    return X_processed"
   ]
  },
  {
   "cell_type": "code",
   "execution_count": 5,
   "metadata": {
    "executionInfo": {
     "elapsed": 3420,
     "status": "ok",
     "timestamp": 1709453826905,
     "user": {
      "displayName": "Yatharth Sant",
      "userId": "00139041176629178899"
     },
     "user_tz": -480
    },
    "id": "T2nUyDnoWqyi"
   },
   "outputs": [],
   "source": [
    "rf_estimator = param_grid['RandomForest']\n",
    "X_test = get_train_test_data(rf_estimator['ohe'], rf_estimator['standardize'])\n",
    "model = joblib.load(f'{data_dir_path}/RandomForest_model.pkl')\n",
    "results = {}\n",
    "y_pred = model.predict(X_test)\n",
    "accuracy = accuracy_score(y, y_pred)\n",
    "class_report = classification_report(y, y_pred)\n",
    "conf_matrix = confusion_matrix(y, y_pred)\n",
    "\n",
    "results['RandomForest'] = {\n",
    "            'Accuracy': accuracy,\n",
    "            'Classification Report': class_report,\n",
    "            'Confusion Matrix': conf_matrix.tolist()\n",
    "}"
   ]
  },
  {
   "cell_type": "code",
   "execution_count": 7,
   "metadata": {
    "colab": {
     "base_uri": "https://localhost:8080/",
     "height": 35
    },
    "executionInfo": {
     "elapsed": 5,
     "status": "ok",
     "timestamp": 1709453868785,
     "user": {
      "displayName": "Yatharth Sant",
      "userId": "00139041176629178899"
     },
     "user_tz": -480
    },
    "id": "SY0elQiTY9Uo",
    "outputId": "4c3061b0-af73-4e38-e6a6-1b17780be4d1"
   },
   "outputs": [
    {
     "data": {
      "application/vnd.google.colaboratory.intrinsic+json": {
       "type": "string"
      },
      "text/plain": [
       "'1.5.3'"
      ]
     },
     "execution_count": 7,
     "metadata": {},
     "output_type": "execute_result"
    }
   ],
   "source": [
    "import pandas as pd\n",
    "pd.__version__"
   ]
  },
  {
   "cell_type": "code",
   "execution_count": 6,
   "metadata": {
    "colab": {
     "base_uri": "https://localhost:8080/"
    },
    "executionInfo": {
     "elapsed": 285,
     "status": "ok",
     "timestamp": 1709453835758,
     "user": {
      "displayName": "Yatharth Sant",
      "userId": "00139041176629178899"
     },
     "user_tz": -480
    },
    "id": "kDsYvTWDtUDW",
    "outputId": "acbf2fc8-2967-4cb4-d8de-bcf22fab0aa3"
   },
   "outputs": [
    {
     "data": {
      "text/plain": [
       "{'RandomForest': {'Accuracy': 0.8685737147429486,\n",
       "  'Classification Report': '              precision    recall  f1-score   support\\n\\n           0       0.88      0.83      0.85      4559\\n           1       0.86      0.90      0.88      5439\\n\\n    accuracy                           0.87      9998\\n   macro avg       0.87      0.87      0.87      9998\\nweighted avg       0.87      0.87      0.87      9998\\n',\n",
       "  'Confusion Matrix': [[3765, 794], [520, 4919]]}}"
      ]
     },
     "execution_count": 6,
     "metadata": {},
     "output_type": "execute_result"
    }
   ],
   "source": [
    "results"
   ]
  }
 ],
 "metadata": {
  "colab": {
   "authorship_tag": "ABX9TyMyD1TW3W5lxvePscM8r3Ui",
   "mount_file_id": "15GMa8GfLBR990mDZ-_v5zh2MPkwFs2qQ",
   "provenance": []
  },
  "kernelspec": {
   "display_name": "Python 3 (ipykernel)",
   "language": "python",
   "name": "python3"
  },
  "language_info": {
   "codemirror_mode": {
    "name": "ipython",
    "version": 3
   },
   "file_extension": ".py",
   "mimetype": "text/x-python",
   "name": "python",
   "nbconvert_exporter": "python",
   "pygments_lexer": "ipython3",
   "version": "3.11.5"
  }
 },
 "nbformat": 4,
 "nbformat_minor": 1
}
